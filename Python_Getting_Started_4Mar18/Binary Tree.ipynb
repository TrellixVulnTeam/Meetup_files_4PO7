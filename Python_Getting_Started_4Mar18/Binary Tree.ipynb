{
 "cells": [
  {
   "cell_type": "markdown",
   "metadata": {},
   "source": [
    "<h1 align='center'>Tree</h1>"
   ]
  },
  {
   "cell_type": "code",
   "execution_count": 2,
   "metadata": {},
   "outputs": [],
   "source": [
    "class Tree:\n",
    "    def __init__(self,value):\n",
    "        self.value = value\n",
    "        self.left = None\n",
    "        self.right = None"
   ]
  },
  {
   "cell_type": "code",
   "execution_count": 56,
   "metadata": {},
   "outputs": [],
   "source": [
    "t = Tree(2)"
   ]
  },
  {
   "cell_type": "code",
   "execution_count": 57,
   "metadata": {},
   "outputs": [
    {
     "data": {
      "text/plain": [
       "<__main__.Tree at 0x7fe6b44c2940>"
      ]
     },
     "execution_count": 57,
     "metadata": {},
     "output_type": "execute_result"
    }
   ],
   "source": [
    "t"
   ]
  },
  {
   "cell_type": "code",
   "execution_count": 58,
   "metadata": {},
   "outputs": [
    {
     "name": "stdout",
     "output_type": "stream",
     "text": [
      "2\n",
      "None\n",
      "None\n"
     ]
    }
   ],
   "source": [
    "print(t.value)\n",
    "print(t.left)\n",
    "print(t.right)"
   ]
  },
  {
   "cell_type": "code",
   "execution_count": 59,
   "metadata": {},
   "outputs": [],
   "source": [
    "class Tree:\n",
    "    def __init__(self,value):\n",
    "        self.value = value\n",
    "        self.left = None\n",
    "        self.right = None\n",
    "        \n",
    "    def insert_left(self,value):\n",
    "        if self.left == None:\n",
    "            newNode = Tree(value)\n",
    "            self.left = newNode\n",
    "        else:\n",
    "            newNode = Tree(value)\n",
    "            newNode.left = self.left\n",
    "            self.left = newNode\n",
    "            \n",
    "    def insert_right(self,value):\n",
    "        if self.right == None:\n",
    "            newNode = Tree(value)\n",
    "            self.right = newNode\n",
    "        else:\n",
    "            newNode = Tree(value)\n",
    "            newNode.right = self.right\n",
    "            self.right = newNode\n"
   ]
  },
  {
   "cell_type": "code",
   "execution_count": 60,
   "metadata": {},
   "outputs": [],
   "source": [
    "t = Tree(2)\n",
    "t.insert_left(4)\n",
    "t.insert_right(5)"
   ]
  },
  {
   "cell_type": "code",
   "execution_count": 61,
   "metadata": {},
   "outputs": [
    {
     "name": "stdout",
     "output_type": "stream",
     "text": [
      "2\n",
      "4\n",
      "5\n"
     ]
    }
   ],
   "source": [
    "print(t.value)\n",
    "print(t.left.value)\n",
    "print(t.right.value)"
   ]
  },
  {
   "cell_type": "code",
   "execution_count": 46,
   "metadata": {},
   "outputs": [
    {
     "data": {
      "text/plain": [
       "5"
      ]
     },
     "execution_count": 46,
     "metadata": {},
     "output_type": "execute_result"
    }
   ],
   "source": [
    "t.insert_right(5)\n",
    "t.right.value"
   ]
  },
  {
   "cell_type": "code",
   "execution_count": 47,
   "metadata": {},
   "outputs": [
    {
     "name": "stdout",
     "output_type": "stream",
     "text": [
      "9\n",
      "4\n"
     ]
    }
   ],
   "source": [
    "t.insert_left(9)\n",
    "print(t.left.value)\n",
    "print(t.left.left.value)"
   ]
  },
  {
   "cell_type": "code",
   "execution_count": 48,
   "metadata": {},
   "outputs": [],
   "source": [
    "new = Tree(1)\n",
    "new.insert_left(2)\n",
    "new.insert_left(4)\n",
    "new.left.insert_right(8)\n",
    "new.insert_right(3)\n",
    "new.right.insert_left(6)"
   ]
  },
  {
   "cell_type": "code",
   "execution_count": 13,
   "metadata": {},
   "outputs": [
    {
     "name": "stdout",
     "output_type": "stream",
     "text": [
      "1 4 3\n",
      "4 2 8\n",
      "3 6\n"
     ]
    }
   ],
   "source": [
    "print(new.value,new.left.value,new.right.value)\n",
    "print(new.left.value,new.left.left.value,new.left.right.value)\n",
    "print(new.right.value,new.right.left.value)"
   ]
  },
  {
   "cell_type": "code",
   "execution_count": 49,
   "metadata": {},
   "outputs": [],
   "source": [
    "class Tree:\n",
    "    def __init__(self,value):\n",
    "        self.value = value\n",
    "        self.left = None\n",
    "        self.right = None\n",
    "        \n",
    "    def insert_left(self,value):\n",
    "        if self.left == None:\n",
    "            newNode = Tree(value)\n",
    "            self.left = newNode\n",
    "        else:\n",
    "            newNode = Tree(value)\n",
    "            newNode.left = self.left\n",
    "            self.left = newNode\n",
    "            \n",
    "    def insert_right(self,value):\n",
    "        if self.right == None:\n",
    "            newNode = Tree(value)\n",
    "            self.right = newNode\n",
    "        else:\n",
    "            newNode = Tree(value)\n",
    "            newNode.right = self.right\n",
    "            self.right = newNode\n",
    "    \n",
    "    def pre_order(self):\n",
    "        print(self.value)\n",
    "        if self.left:\n",
    "            self.left.pre_order()\n",
    "        if self.right:\n",
    "            self.right.pre_order()\n",
    "    \n",
    "    def post_order(self):\n",
    "        if self.left:\n",
    "            self.left.post_order()\n",
    "        if self.right:\n",
    "            self.right.post_order()\n",
    "        print(self.value)\n",
    "    \n",
    "    def in_order(self):\n",
    "        if self.left:\n",
    "            self.left.in_order()\n",
    "        print(self.value)\n",
    "        if self.right:\n",
    "            self.right.in_order()\n",
    "    \n",
    "    def bfs(self):\n",
    "        queue = [self]\n",
    "        while len(queue) > 0:\n",
    "            out = queue.pop(0)\n",
    "            if out.left:\n",
    "                queue.append(out.left)\n",
    "            if out.right:\n",
    "                queue.append(out.right)\n",
    "            print(out.value)"
   ]
  },
  {
   "cell_type": "code",
   "execution_count": 15,
   "metadata": {},
   "outputs": [
    {
     "name": "stdout",
     "output_type": "stream",
     "text": [
      "1 2 3\n",
      "2 4 5\n",
      "3 6\n"
     ]
    }
   ],
   "source": [
    "new = Tree(1)\n",
    "new.insert_left(2)\n",
    "new.left.insert_left(4)\n",
    "new.left.insert_right(5)\n",
    "new.insert_right(3)\n",
    "new.right.insert_left(6)\n",
    "print(new.value,new.left.value,new.right.value)\n",
    "print(new.left.value,new.left.left.value,new.left.right.value)\n",
    "print(new.right.value,new.right.left.value)"
   ]
  },
  {
   "cell_type": "code",
   "execution_count": 16,
   "metadata": {},
   "outputs": [
    {
     "name": "stdout",
     "output_type": "stream",
     "text": [
      "1\n",
      "2\n",
      "4\n",
      "5\n",
      "3\n",
      "6\n"
     ]
    }
   ],
   "source": [
    "new.pre_order()"
   ]
  },
  {
   "cell_type": "code",
   "execution_count": 17,
   "metadata": {},
   "outputs": [
    {
     "name": "stdout",
     "output_type": "stream",
     "text": [
      "4\n",
      "5\n",
      "2\n",
      "6\n",
      "3\n",
      "1\n"
     ]
    }
   ],
   "source": [
    "new.post_order()"
   ]
  },
  {
   "cell_type": "code",
   "execution_count": 18,
   "metadata": {},
   "outputs": [
    {
     "name": "stdout",
     "output_type": "stream",
     "text": [
      "4\n",
      "2\n",
      "5\n",
      "1\n",
      "6\n",
      "3\n"
     ]
    }
   ],
   "source": [
    "new.in_order()"
   ]
  },
  {
   "cell_type": "code",
   "execution_count": 19,
   "metadata": {},
   "outputs": [
    {
     "name": "stdout",
     "output_type": "stream",
     "text": [
      "1\n",
      "2\n",
      "3\n",
      "4\n",
      "5\n",
      "6\n"
     ]
    }
   ],
   "source": [
    "new.bfs()"
   ]
  },
  {
   "cell_type": "code",
   "execution_count": 50,
   "metadata": {},
   "outputs": [],
   "source": [
    "class Bst:\n",
    "    def __init__(self,value):\n",
    "        self.value = value\n",
    "        self.left = None\n",
    "        self.right = None\n",
    "    def insert_node(self,value):\n",
    "        if value <= self.value:\n",
    "            if self.left == None:\n",
    "                newNode = Bst(value)\n",
    "                self.left = newNode\n",
    "            else:\n",
    "                self.left.insert_node(value)\n",
    "        else:\n",
    "            if self.right == None:\n",
    "                newNode = Bst(value)\n",
    "                self.right = newNode\n",
    "            else:\n",
    "                self.right.insert_node(value)\n",
    "      \n",
    "    def in_order(self):\n",
    "        if self.left:\n",
    "            self.left.in_order()\n",
    "        print(self.value)\n",
    "        if self.right:\n",
    "            self.right.in_order()\n",
    "            \n",
    "    def find(self,value):\n",
    "        if value == self.value:\n",
    "            print('true')\n",
    "        elif self.left != None and value <= self.value:\n",
    "            self.left.find(value)\n",
    "        elif self.right != None and value > self.value:\n",
    "            self.right.find(value)\n",
    "        else:\n",
    "            print('false')"
   ]
  },
  {
   "cell_type": "code",
   "execution_count": 51,
   "metadata": {},
   "outputs": [
    {
     "name": "stdout",
     "output_type": "stream",
     "text": [
      "12 None None\n"
     ]
    }
   ],
   "source": [
    "bst = Bst(12)\n",
    "print(bst.value,bst.left,bst.right)"
   ]
  },
  {
   "cell_type": "code",
   "execution_count": 52,
   "metadata": {},
   "outputs": [],
   "source": [
    "bst.insert_node(6)"
   ]
  },
  {
   "cell_type": "code",
   "execution_count": 53,
   "metadata": {},
   "outputs": [],
   "source": [
    "bst.insert_node(15)"
   ]
  },
  {
   "cell_type": "code",
   "execution_count": 54,
   "metadata": {},
   "outputs": [],
   "source": [
    "bst.insert_node(4)\n",
    "bst.insert_node(7)\n",
    "bst.insert_node(9)\n",
    "bst.insert_node(13)"
   ]
  },
  {
   "cell_type": "code",
   "execution_count": 55,
   "metadata": {},
   "outputs": [
    {
     "name": "stdout",
     "output_type": "stream",
     "text": [
      "4\n",
      "6\n",
      "7\n",
      "9\n",
      "12\n",
      "13\n",
      "15\n"
     ]
    }
   ],
   "source": [
    "bst.in_order()"
   ]
  },
  {
   "cell_type": "code",
   "execution_count": 26,
   "metadata": {},
   "outputs": [
    {
     "name": "stdout",
     "output_type": "stream",
     "text": [
      "true\n"
     ]
    }
   ],
   "source": [
    "bst.find(15)"
   ]
  },
  {
   "cell_type": "code",
   "execution_count": 27,
   "metadata": {},
   "outputs": [],
   "source": [
    "class Bst:\n",
    "    def __init__(self,value):\n",
    "        self.value = value\n",
    "        self.left = None\n",
    "        self.right = None\n",
    "    def insert_node(self,value):\n",
    "        if value <= self.value:\n",
    "            if self.left == None:\n",
    "                newNode = Bst(value)\n",
    "                self.left = newNode\n",
    "            else:\n",
    "                self.left.insert_node(value)\n",
    "        else:\n",
    "            if self.right == None:\n",
    "                newNode = Bst(value)\n",
    "                self.right = newNode\n",
    "            else:\n",
    "                self.right.insert_node(value)\n",
    "      \n",
    "    def in_order(self):\n",
    "        if self.left:\n",
    "            self.left.in_order()\n",
    "        print(self.value)\n",
    "        if self.right:\n",
    "            self.right.in_order()\n",
    "            \n",
    "    def find(self,value):\n",
    "        if value == self.value:\n",
    "            print('true')\n",
    "        elif self.left != None and value <= self.value:\n",
    "            self.left.find(value)\n",
    "        elif self.right != None and value > self.value:\n",
    "            self.right.find(value)\n",
    "        else:\n",
    "            print('false')\n",
    "    \n",
    "    def minvalue_node(self,node):\n",
    "        current = node\n",
    "        while current.left is not None:\n",
    "            current = current.left\n",
    "#         val = current.value\n",
    "#         current.value = None\n",
    "        return current\n",
    "        \n",
    "    def delete_node(self,value):\n",
    "        if value == self.value and self.left ==  None and self.right == None:\n",
    "            self.value = None\n",
    "        \n",
    "        elif value == self.value and self.left ==  None and self.right != None and self.right.value != None:\n",
    "#             self.value = self.right.value\n",
    "            self.right = self.right.right\n",
    "#             self.right.value = None\n",
    "        \n",
    "        elif value == self.value and self.left !=  None and self.right == None and self.left.value != None:\n",
    "#             self.value = self.left.value\n",
    "            self.left = self.left.left\n",
    "#             self.left.value = None\n",
    "        \n",
    "#         elif value == self.value and self.left !=  None and self.right != None and self.left.value != None and self.right.value != None:\n",
    "#             self.value = self.minvalue_node(self.right)\n",
    "            \n",
    "        elif self.left != None and value <= self.value:\n",
    "            self.left.delete_node(value)\n",
    "#             self.left = None\n",
    "#             return 'deleted'\n",
    "            \n",
    "            \n",
    "        elif self.right != None and value > self.value:\n",
    "            self.right.delete_node(value)\n",
    "            \n",
    "            \n",
    "            "
   ]
  },
  {
   "cell_type": "code",
   "execution_count": 28,
   "metadata": {},
   "outputs": [
    {
     "name": "stdout",
     "output_type": "stream",
     "text": [
      "12 None None\n"
     ]
    }
   ],
   "source": [
    "bst = Bst(12)\n",
    "print(bst.value,bst.left,bst.right)"
   ]
  },
  {
   "cell_type": "code",
   "execution_count": 29,
   "metadata": {},
   "outputs": [],
   "source": [
    "bst.delete_node(12)"
   ]
  },
  {
   "cell_type": "code",
   "execution_count": 30,
   "metadata": {},
   "outputs": [
    {
     "name": "stdout",
     "output_type": "stream",
     "text": [
      "None None None\n"
     ]
    }
   ],
   "source": [
    "print(bst.value,bst.left,bst.right)"
   ]
  },
  {
   "cell_type": "code",
   "execution_count": 31,
   "metadata": {},
   "outputs": [],
   "source": [
    "bst = Bst(12)\n",
    "bst.insert_node(6)\n",
    "bst.insert_node(15)\n",
    "bst.insert_node(4)\n",
    "bst.insert_node(7)\n",
    "bst.insert_node(9)\n",
    "bst.insert_node(13)"
   ]
  },
  {
   "cell_type": "code",
   "execution_count": 32,
   "metadata": {},
   "outputs": [
    {
     "name": "stdout",
     "output_type": "stream",
     "text": [
      "4\n",
      "6\n",
      "7\n",
      "9\n",
      "12\n",
      "13\n",
      "15\n"
     ]
    }
   ],
   "source": [
    "bst.in_order()"
   ]
  },
  {
   "cell_type": "code",
   "execution_count": 33,
   "metadata": {},
   "outputs": [],
   "source": [
    "bst.delete_node(4)"
   ]
  },
  {
   "cell_type": "code",
   "execution_count": 34,
   "metadata": {},
   "outputs": [
    {
     "data": {
      "text/plain": [
       "7"
      ]
     },
     "execution_count": 34,
     "metadata": {},
     "output_type": "execute_result"
    }
   ],
   "source": [
    "bst.left.right.value"
   ]
  }
 ],
 "metadata": {
  "kernelspec": {
   "display_name": "Python 3",
   "language": "python",
   "name": "python3"
  },
  "language_info": {
   "codemirror_mode": {
    "name": "ipython",
    "version": 3
   },
   "file_extension": ".py",
   "mimetype": "text/x-python",
   "name": "python",
   "nbconvert_exporter": "python",
   "pygments_lexer": "ipython3",
   "version": "3.5.2"
  }
 },
 "nbformat": 4,
 "nbformat_minor": 2
}
