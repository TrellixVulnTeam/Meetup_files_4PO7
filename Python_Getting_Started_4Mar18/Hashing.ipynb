{
 "cells": [
  {
   "cell_type": "code",
   "execution_count": 217,
   "metadata": {},
   "outputs": [],
   "source": [
    "class Hash_table():\n",
    "    def __init__(self,state,value):\n",
    "        self.state = state\n",
    "        self.value = value  "
   ]
  },
  {
   "cell_type": "code",
   "execution_count": 222,
   "metadata": {},
   "outputs": [],
   "source": [
    "val_list = [12,34,56,67,90,75,15]\n",
    "hs = len(val_list)+1"
   ]
  },
  {
   "cell_type": "code",
   "execution_count": 223,
   "metadata": {},
   "outputs": [],
   "source": [
    "def hash(x,hs):\n",
    "    return x % hs"
   ]
  },
  {
   "cell_type": "code",
   "execution_count": 262,
   "metadata": {},
   "outputs": [],
   "source": [
    "def linear_insert(x,hs):\n",
    "    index = hash(x,hs)\n",
    "    if ht[index].state == 0 or ht[index].state == -1:\n",
    "        ht[index].value = x\n",
    "        ht[index].state = 1\n",
    "    else:\n",
    "        index = index + 1\n",
    "        temp = 0\n",
    "        while 1:\n",
    "            if index == hs and temp == 0:\n",
    "                index = index % hs\n",
    "                temp = 1\n",
    "            if index == hs and temp == 1:\n",
    "                print('cant insert ' + str(x) + ' table is full\\n')\n",
    "                break\n",
    "            if ht[index].state == 0 or ht[index].state == -1:\n",
    "                ht[index].value = x\n",
    "                ht[index].state = 1\n",
    "                break\n",
    "            index += 1"
   ]
  },
  {
   "cell_type": "code",
   "execution_count": 250,
   "metadata": {},
   "outputs": [
    {
     "name": "stdout",
     "output_type": "stream",
     "text": [
      "cant insert 65 table is full\n",
      "\n",
      "Index state value\n",
      " 0      1    35\n",
      " 1      1    45\n",
      " 2      1    55\n",
      " 3      1    75\n",
      " 4      1    15\n",
      " 5      1    5\n"
     ]
    }
   ],
   "source": [
    "# val_list = [12,34,56,67,90,75,15]\n",
    "val_list = [75,15,5,35,45,55,65]\n",
    "\n",
    "hs = 6\n",
    "ht = [Hash_table(0,None) for i in range(hs)]\n",
    "for i in val_list:\n",
    "    linear_insert(i,hs)\n",
    "    \n",
    "print('Index state value')\n",
    "for i in range(len(ht)):\n",
    "    print(' '+str(i)+'      '+str(ht[i].state)+'    '+str(ht[i].value))"
   ]
  },
  {
   "cell_type": "code",
   "execution_count": 259,
   "metadata": {},
   "outputs": [],
   "source": [
    "def search(value,ht):\n",
    "    index = hash(value,len(ht))\n",
    "    if ht[index].value == value:\n",
    "        print('found in index ' + str(index) )\n",
    "    else:\n",
    "        index += 1\n",
    "        temp = 0\n",
    "        while 1:\n",
    "            if index == hs and temp == 0:\n",
    "                index = index % hs\n",
    "                temp = 1\n",
    "            if index == hs and temp == 1:\n",
    "                print('cant found ' + str(value) + ' in table\\n')\n",
    "                break\n",
    "            if ht[index].value == value:\n",
    "                print('found in index ' + str(index) )\n",
    "                break\n",
    "            index += 1"
   ]
  },
  {
   "cell_type": "code",
   "execution_count": 261,
   "metadata": {},
   "outputs": [
    {
     "name": "stdout",
     "output_type": "stream",
     "text": [
      "found in index 0\n"
     ]
    }
   ],
   "source": [
    "search(35,ht)"
   ]
  },
  {
   "cell_type": "code",
   "execution_count": null,
   "metadata": {},
   "outputs": [],
   "source": []
  }
 ],
 "metadata": {
  "kernelspec": {
   "display_name": "Python 3",
   "language": "python",
   "name": "python3"
  },
  "language_info": {
   "codemirror_mode": {
    "name": "ipython",
    "version": 3
   },
   "file_extension": ".py",
   "mimetype": "text/x-python",
   "name": "python",
   "nbconvert_exporter": "python",
   "pygments_lexer": "ipython3",
   "version": "3.5.2"
  }
 },
 "nbformat": 4,
 "nbformat_minor": 2
}
