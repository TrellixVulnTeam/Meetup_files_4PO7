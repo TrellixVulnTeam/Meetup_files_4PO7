{
 "cells": [
  {
   "cell_type": "code",
   "execution_count": 11,
   "metadata": {},
   "outputs": [
    {
     "name": "stdout",
     "output_type": "stream",
     "text": [
      "Theta0= 7.991020982270324 Theta1= 1.3224310227553597\n",
      "costfunction= 110.2573834662132\n",
      "76.55270452683786 76.69838936257032\n"
     ]
    }
   ],
   "source": [
    "import numpy as np\n",
    "def costFunction(theta0,theta1,data):\n",
    "    totalError=0\n",
    "    for i in range(0, len(data)):\n",
    "         y=data[i,1]\n",
    "         x=data[i,0]\n",
    "         totalError+=(y-(theta1*x+theta0))**2\n",
    "    return totalError/float(len(data))\n",
    "def run():\n",
    "    data=np.genfromtxt(\"Lineardata.csv\", delimiter=\",\")\n",
    "    X=[[0 for i in range(2)] for j in range(len(data))]\n",
    "    Y=[0 for i in range(len(data))]\n",
    "    for i in range(0,len(data)):\n",
    "        X[i][0]=1\n",
    "        X[i][1]=data[i,0]\n",
    "        Y[i]=data[i,1] \n",
    "    Xt=np.transpose(X)\n",
    "    [Theta0, Theta1]=np.dot(np.dot(np.linalg.inv(np.dot(Xt, X)), Xt), Y)\n",
    "    print('Theta0=',Theta0,'Theta1=', Theta1)\n",
    "    print('costfunction=',costFunction(Theta0,Theta1,data))\n",
    "    y1=51.84518690563943*1.3224310227553597 + 7.991020982270324\n",
    "    gradient=51.84518690563943*1.4731250921538916+0.32394362446450875\n",
    "    print(y1,gradient)\n",
    "if __name__ == '__main__':\n",
    "    run()"
   ]
  },
  {
   "cell_type": "code",
   "execution_count": null,
   "metadata": {},
   "outputs": [],
   "source": []
  },
  {
   "cell_type": "code",
   "execution_count": null,
   "metadata": {},
   "outputs": [],
   "source": []
  }
 ],
 "metadata": {
  "kernelspec": {
   "display_name": "Python 3",
   "language": "python",
   "name": "python3"
  },
  "language_info": {
   "codemirror_mode": {
    "name": "ipython",
    "version": 3
   },
   "file_extension": ".py",
   "mimetype": "text/x-python",
   "name": "python",
   "nbconvert_exporter": "python",
   "pygments_lexer": "ipython3",
   "version": "3.6.5"
  }
 },
 "nbformat": 4,
 "nbformat_minor": 2
}
